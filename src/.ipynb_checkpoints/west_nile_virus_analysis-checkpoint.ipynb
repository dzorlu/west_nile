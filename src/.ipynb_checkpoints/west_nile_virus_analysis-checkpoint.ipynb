{
 "cells": [
  {
   "cell_type": "code",
   "execution_count": 4,
   "metadata": {
    "collapsed": false
   },
   "outputs": [],
   "source": [
    "import pandas as pd\n",
    "import numpy as np\n",
    "import matplotlib.pyplot as plt\n",
    "import keras\n",
    "import os\n",
    "\n",
    "from utils import *\n",
    "from model import *\n",
    "\n",
    "%matplotlib inline"
   ]
  },
  {
   "cell_type": "code",
   "execution_count": 10,
   "metadata": {
    "collapsed": false
   },
   "outputs": [
    {
     "data": {
      "text/plain": [
       "['.ipynb_checkpoints',\n",
       " '__pycache__',\n",
       " 'measurement_locations.ipynb',\n",
       " 'measurement_locations.py',\n",
       " 'model.py',\n",
       " 'utils.py',\n",
       " 'west_nile_virus_analysis.ipynb']"
      ]
     },
     "execution_count": 10,
     "metadata": {},
     "output_type": "execute_result"
    }
   ],
   "source": [
    "os.listdir()"
   ]
  },
  {
   "cell_type": "markdown",
   "metadata": {},
   "source": [
    "## Explanatory Analysis"
   ]
  },
  {
   "cell_type": "code",
   "execution_count": 2,
   "metadata": {
    "collapsed": false
   },
   "outputs": [
    {
     "ename": "FileNotFoundError",
     "evalue": "[Errno 2] No such file or directory: '../input/mapdata_copyright_openstreetmap_contributors.txt'",
     "output_type": "error",
     "traceback": [
      "\u001b[0;31m---------------------------------------------------------------------------\u001b[0m",
      "\u001b[0;31mFileNotFoundError\u001b[0m                         Traceback (most recent call last)",
      "\u001b[0;32m<ipython-input-2-e0b1574ce934>\u001b[0m in \u001b[0;36m<module>\u001b[0;34m()\u001b[0m\n\u001b[1;32m      1\u001b[0m \u001b[0;31m# Load the Train/Test Data\u001b[0m\u001b[0;34m\u001b[0m\u001b[0;34m\u001b[0m\u001b[0m\n\u001b[0;32m----> 2\u001b[0;31m \u001b[0mmapdata\u001b[0m \u001b[0;34m=\u001b[0m \u001b[0mnp\u001b[0m\u001b[0;34m.\u001b[0m\u001b[0mloadtxt\u001b[0m\u001b[0;34m(\u001b[0m\u001b[0;34m\"../input/mapdata_copyright_openstreetmap_contributors.txt\"\u001b[0m\u001b[0;34m)\u001b[0m\u001b[0;34m\u001b[0m\u001b[0m\n\u001b[0m\u001b[1;32m      3\u001b[0m \u001b[0mtrain\u001b[0m \u001b[0;34m=\u001b[0m \u001b[0mpd\u001b[0m\u001b[0;34m.\u001b[0m\u001b[0mread_csv\u001b[0m\u001b[0;34m(\u001b[0m\u001b[0;34m'../input/train.csv'\u001b[0m\u001b[0;34m)\u001b[0m\u001b[0;34m\u001b[0m\u001b[0m\n\u001b[1;32m      4\u001b[0m \u001b[0mtest\u001b[0m \u001b[0;34m=\u001b[0m \u001b[0mpd\u001b[0m\u001b[0;34m.\u001b[0m\u001b[0mread_csv\u001b[0m\u001b[0;34m(\u001b[0m\u001b[0;34m'../input/test.csv'\u001b[0m\u001b[0;34m)\u001b[0m\u001b[0;34m\u001b[0m\u001b[0m\n\u001b[1;32m      5\u001b[0m \u001b[0mweather\u001b[0m \u001b[0;34m=\u001b[0m \u001b[0mpd\u001b[0m\u001b[0;34m.\u001b[0m\u001b[0mread_csv\u001b[0m\u001b[0;34m(\u001b[0m\u001b[0;34m\"../input/weather.csv\"\u001b[0m\u001b[0;34m)\u001b[0m\u001b[0;34m\u001b[0m\u001b[0m\n",
      "\u001b[0;32m/root/miniconda3/envs/carnd-term1/lib/python3.5/site-packages/numpy/lib/npyio.py\u001b[0m in \u001b[0;36mloadtxt\u001b[0;34m(fname, dtype, comments, delimiter, converters, skiprows, usecols, unpack, ndmin)\u001b[0m\n\u001b[1;32m    803\u001b[0m                 \u001b[0mfh\u001b[0m \u001b[0;34m=\u001b[0m \u001b[0miter\u001b[0m\u001b[0;34m(\u001b[0m\u001b[0mopen\u001b[0m\u001b[0;34m(\u001b[0m\u001b[0mfname\u001b[0m\u001b[0;34m,\u001b[0m \u001b[0;34m'U'\u001b[0m\u001b[0;34m)\u001b[0m\u001b[0;34m)\u001b[0m\u001b[0;34m\u001b[0m\u001b[0m\n\u001b[1;32m    804\u001b[0m             \u001b[0;32melse\u001b[0m\u001b[0;34m:\u001b[0m\u001b[0;34m\u001b[0m\u001b[0m\n\u001b[0;32m--> 805\u001b[0;31m                 \u001b[0mfh\u001b[0m \u001b[0;34m=\u001b[0m \u001b[0miter\u001b[0m\u001b[0;34m(\u001b[0m\u001b[0mopen\u001b[0m\u001b[0;34m(\u001b[0m\u001b[0mfname\u001b[0m\u001b[0;34m)\u001b[0m\u001b[0;34m)\u001b[0m\u001b[0;34m\u001b[0m\u001b[0m\n\u001b[0m\u001b[1;32m    806\u001b[0m         \u001b[0;32melse\u001b[0m\u001b[0;34m:\u001b[0m\u001b[0;34m\u001b[0m\u001b[0m\n\u001b[1;32m    807\u001b[0m             \u001b[0mfh\u001b[0m \u001b[0;34m=\u001b[0m \u001b[0miter\u001b[0m\u001b[0;34m(\u001b[0m\u001b[0mfname\u001b[0m\u001b[0;34m)\u001b[0m\u001b[0;34m\u001b[0m\u001b[0m\n",
      "\u001b[0;31mFileNotFoundError\u001b[0m: [Errno 2] No such file or directory: '../input/mapdata_copyright_openstreetmap_contributors.txt'"
     ]
    }
   ],
   "source": [
    "# Load the Train/Test Data\n",
    "mapdata = np.loadtxt(\"../input/mapdata_copyright_openstreetmap_contributors.txt\")\n",
    "train = pd.read_csv('../input/train.csv')\n",
    "test = pd.read_csv('../input/test.csv')\n",
    "weather = pd.read_csv(\"../input/weather.csv\")\n",
    "traps = train[['Date', 'Trap','Longitude', 'Latitude', 'WnvPresent']]\n",
    "aspect = mapdata.shape[0] * 1.0 / mapdata.shape[1]"
   ]
  },
  {
   "cell_type": "code",
   "execution_count": null,
   "metadata": {
    "collapsed": false
   },
   "outputs": [],
   "source": [
    "# Location of Traps\n",
    "lon_lat_box = (-88, -87.5, 41.6, 42.1)\n",
    "\n",
    "plt.figure(figsize=(20,14))\n",
    "plt.imshow(mapdata,\n",
    "           cmap=plt.get_cmap('gray'),\n",
    "           extent=lon_lat_box,\n",
    "           aspect=aspect)\n",
    "\n",
    "locations = traps[['Longitude', 'Latitude']].drop_duplicates().values\n",
    "plt.scatter(locations[:,0], locations[:,1], marker='x')\n",
    "\n",
    "\n",
    "wnvPresent = train.groupby(['Latitude','Longitude']).agg(np.sum)['WnvPresent'].reset_index().values\n",
    "plt.scatter(wnvPresent[:,1], wnvPresent[:,0], marker='o',color='r',s=wnvPresent[:,2]/2)\n"
   ]
  },
  {
   "cell_type": "code",
   "execution_count": null,
   "metadata": {
    "collapsed": false
   },
   "outputs": [],
   "source": [
    "train.groupby('WnvPresent').size().plot(kind='bar')"
   ]
  },
  {
   "cell_type": "code",
   "execution_count": null,
   "metadata": {
    "collapsed": false
   },
   "outputs": [],
   "source": [
    "train.iloc[0]"
   ]
  },
  {
   "cell_type": "code",
   "execution_count": null,
   "metadata": {
    "collapsed": false
   },
   "outputs": [],
   "source": [
    "train.head()"
   ]
  },
  {
   "cell_type": "code",
   "execution_count": null,
   "metadata": {
    "collapsed": false
   },
   "outputs": [],
   "source": [
    "test.head()"
   ]
  },
  {
   "cell_type": "code",
   "execution_count": null,
   "metadata": {
    "collapsed": false
   },
   "outputs": [],
   "source": [
    "test.groupby('Species').size()"
   ]
  },
  {
   "cell_type": "code",
   "execution_count": null,
   "metadata": {
    "collapsed": false
   },
   "outputs": [],
   "source": [
    "# Spray Data\n",
    "spray = pd.read_csv(\"../input/spray.csv\")\n",
    "spray.head()"
   ]
  },
  {
   "cell_type": "code",
   "execution_count": null,
   "metadata": {
    "collapsed": false
   },
   "outputs": [],
   "source": [
    "# Spray data is not available for test years!! \n",
    "spray.groupby('Date').size()"
   ]
  },
  {
   "cell_type": "code",
   "execution_count": null,
   "metadata": {
    "collapsed": false
   },
   "outputs": [],
   "source": [
    "weather.head()"
   ]
  },
  {
   "cell_type": "code",
   "execution_count": null,
   "metadata": {
    "collapsed": false
   },
   "outputs": [],
   "source": [
    "# Mosquito Count by Trap and Month\n",
    "def _get_trap_stats(dt):\n",
    "    get_month = lambda d: float(d.split('-')[1])\n",
    "    dt['month'] = dt['Date'].apply(get_month)\n",
    "    trap_stats = dt.groupby(['Trap','month']).agg([np.mean,len])['NumMosquitos'].reset_index().sort_values('mean',ascending=False)\n",
    "    trap_stats.index = trap_stats.Trap\n",
    "    trap_stats.index = trap_stats[['Trap','month']]\n",
    "    trap_stats = trap_stats.drop(['len'],axis=1)\n",
    "    return trap_stats.pivot(index='Trap',columns='month',values='mean').fillna(0)\n",
    "\n",
    "trap_stats = _get_trap_stats(train)\n",
    "trap_stats.plot.barh(stacked=True,figsize=(15,15))"
   ]
  },
  {
   "cell_type": "code",
   "execution_count": null,
   "metadata": {
    "collapsed": false
   },
   "outputs": [],
   "source": [
    "# Infection probability given number of mosquitoes in the trap\n",
    "_temp = train.copy()[['NumMosquitos','WnvPresent']]\n",
    "_temp['m_count'] = pd.cut(_temp.NumMosquitos,10)\n",
    "_temp = _temp.groupby('m_count').mean()['WnvPresent']\n",
    "_temp.plot(kind='bar')"
   ]
  },
  {
   "cell_type": "code",
   "execution_count": null,
   "metadata": {
    "collapsed": false
   },
   "outputs": [],
   "source": [
    "train.columns"
   ]
  },
  {
   "cell_type": "code",
   "execution_count": null,
   "metadata": {
    "collapsed": false
   },
   "outputs": [],
   "source": [
    "_data.head()"
   ]
  },
  {
   "cell_type": "code",
   "execution_count": null,
   "metadata": {
    "collapsed": false
   },
   "outputs": [],
   "source": [
    "def _fit_neighborhood_model(dt):\n",
    "    get_month = lambda d: int(d.split('-')[1])\n",
    "    dt['month'] = dt['Date'].apply(get_month)\n",
    "    months = set(dt.month.astype(int).tolist())\n",
    "    neighborhood_model = {}\n",
    "    for _month in months:\n",
    "        neigh = KNeighborsRegressor(n_neighbors=3)\n",
    "        _data = dt[['Longitude','Latitude','NumMosquitos','month']][dt['month'] == _month]\n",
    "        _data = _data.groupby(['Longitude','Latitude']).mean()['NumMosquitos'].reset_index()\n",
    "        _X, _y = np.array(_data[['Longitude','Latitude']]), _data['NumMosquitos']\n",
    "        neigh.fit(_X, _y)\n",
    "        neighborhood_model[_month] = neigh\n",
    "    return neighborhood_model\n",
    "\n",
    "neigh = _fit_neighborhood_model(train)\n",
    "i = 2001\n",
    "train.iloc[i], neigh[8].predict(np.array([train.Longitude[i],train.Latitude[i]]).reshape(1,-1))[0]"
   ]
  },
  {
   "cell_type": "code",
   "execution_count": null,
   "metadata": {
    "collapsed": false
   },
   "outputs": [],
   "source": [
    "train.head()"
   ]
  },
  {
   "cell_type": "code",
   "execution_count": null,
   "metadata": {
    "collapsed": false
   },
   "outputs": [],
   "source": [
    "# Fitted model versus actual mosquito count\n",
    "_temp = train.copy()\n",
    "def _get_mosquito_bias(dt, model):\n",
    "    get_month = lambda d: int(d.split('-')[1])\n",
    "    dt['month'] = dt['Date'].apply(get_month)\n",
    "    # Compute the approx mosquito count\n",
    "    def compute_bias(row):\n",
    "        _x = np.array([row.Longitude,row.Latitude]).reshape(1,-1)\n",
    "        return model[row.month].predict(_x)[0]\n",
    "    return dt.apply(compute_bias,axis=1)\n",
    "get_month = lambda d: int(d.split('-')[1])\n",
    "_temp['month'] = _temp['Date'].apply(get_month)\n",
    "_temp['app'] =  _get_mosquito_bias(train, neigh)\n",
    "_temp[['Trap','month','app','NumMosquitos']].tail(20)"
   ]
  },
  {
   "cell_type": "code",
   "execution_count": null,
   "metadata": {
    "collapsed": false
   },
   "outputs": [],
   "source": [
    "_lon_min, _lon_max, _lat_min, _lat_max = train['Longitude'].min(), train['Longitude'].max(), train['Latitude'].min(), train['Latitude'].max()\n",
    "lons = np.linspace(_lon_min,_lon_max,20)\n",
    "lats = np.linspace(_lat_min,_lat_max,20)\n",
    "_out = []\n",
    "for _lon, _lat in product(lons, lats):\n",
    "    _out.append({\n",
    "        'val': neighborhood_model[8].predict(np.array([_lon,_lat]).reshape(1,-1))[0],\n",
    "        'lon' : _lon,\n",
    "        'lat' : _lat\n",
    "    }\n",
    "    ) \n",
    "_out = pd.DataFrame(_out)"
   ]
  },
  {
   "cell_type": "code",
   "execution_count": null,
   "metadata": {
    "collapsed": false
   },
   "outputs": [],
   "source": [
    "# Location of Traps\n",
    "lon_lat_box = (-88, -87.5, 41.6, 42.1)\n",
    "\n",
    "plt.figure(figsize=(20,14))\n",
    "plt.imshow(mapdata,\n",
    "           cmap=plt.get_cmap('gray'),\n",
    "           extent=lon_lat_box,\n",
    "           aspect=aspect)\n",
    "\n",
    "neighbor_app = _out.groupby(['lat','lon']).agg(np.sum)['val'].reset_index().values\n",
    "plt.scatter(neighbor_app[:,1], neighbor_app[:,0], marker='o',color='b',s=neighbor_app[:,2])\n",
    "\n",
    "num_m = train.groupby(['Latitude','Longitude']).agg(np.sum)['NumMosquitos'].reset_index().values\n",
    "plt.scatter(num_m[:,1], num_m[:,0], marker='o',color='r',s=num_m[:,2]/10)"
   ]
  },
  {
   "cell_type": "code",
   "execution_count": null,
   "metadata": {
    "collapsed": false
   },
   "outputs": [],
   "source": [
    "# Species counts\n",
    "train['Species'].value_counts().plot(kind='bar')"
   ]
  },
  {
   "cell_type": "code",
   "execution_count": null,
   "metadata": {
    "collapsed": true
   },
   "outputs": [],
   "source": [
    "#################################################"
   ]
  },
  {
   "cell_type": "code",
   "execution_count": null,
   "metadata": {
    "collapsed": false
   },
   "outputs": [],
   "source": [
    "# Processed weather data\n",
    "weather = process_weather_data()\n",
    "weather.head()"
   ]
  },
  {
   "cell_type": "code",
   "execution_count": null,
   "metadata": {
    "collapsed": false
   },
   "outputs": [],
   "source": [
    "# Show precipitation histogram\n",
    "weather.PrecipTotal.hist(bins=30)"
   ]
  },
  {
   "cell_type": "code",
   "execution_count": null,
   "metadata": {
    "collapsed": false
   },
   "outputs": [],
   "source": [
    "r = weather.PrecipTotal.rolling(window=5)\n",
    "weather['AvgPrecip'] = r.mean().fillna(0)\n",
    "weather.AvgPrecip.hist(bins=30)"
   ]
  },
  {
   "cell_type": "code",
   "execution_count": null,
   "metadata": {
    "collapsed": false
   },
   "outputs": [],
   "source": [
    "# Show the correlation between dew point - average temp difference and precipation total\n",
    "weather['dew_diff'] = weather['Tavg'] - weather['DewPoint']\n",
    "weather.plot(kind='scatter',x='dew_diff',y='PrecipTotal')"
   ]
  },
  {
   "cell_type": "code",
   "execution_count": null,
   "metadata": {
    "collapsed": false
   },
   "outputs": [],
   "source": [
    "# Weather data averaged over months\n",
    "montly_avgs = weather.groupby('month').mean().drop(['week'],axis=1)\n",
    "montly_avgs.head()"
   ]
  },
  {
   "cell_type": "markdown",
   "metadata": {},
   "source": [
    "### Processed Training Data"
   ]
  },
  {
   "cell_type": "code",
   "execution_count": null,
   "metadata": {
    "collapsed": false
   },
   "outputs": [],
   "source": [
    "train = get_train_or_test_data()\n",
    "train.head()"
   ]
  },
  {
   "cell_type": "code",
   "execution_count": null,
   "metadata": {
    "collapsed": false
   },
   "outputs": [],
   "source": [
    "# target variable distribution by month\n",
    "train.groupby('month').mean()['WnvPresent'].plot(kind='bar')"
   ]
  },
  {
   "cell_type": "code",
   "execution_count": null,
   "metadata": {
    "collapsed": false
   },
   "outputs": [],
   "source": [
    "train.groupby('month').size().plot(kind='bar')"
   ]
  },
  {
   "cell_type": "code",
   "execution_count": null,
   "metadata": {
    "collapsed": false
   },
   "outputs": [],
   "source": [
    "# Wind speed\n",
    "#train['ResultSpeed'].hist()\n",
    "_temp = train.copy()[['ResultSpeed','WnvPresent']]\n",
    "_temp['wind_speed'] = pd.cut(_temp.ResultSpeed,10)\n",
    "_temp = _temp.groupby('wind_speed').mean()['WnvPresent']\n",
    "_temp.plot(kind='bar')"
   ]
  },
  {
   "cell_type": "code",
   "execution_count": null,
   "metadata": {
    "collapsed": false
   },
   "outputs": [],
   "source": [
    "# Precipation\n",
    "_temp = train.copy()[['PrecipTotal','WnvPresent']]\n",
    "_temp['PrecipTotal'].hist(bins=30)\n",
    "_temp['has_rained'] = (_temp['PrecipTotal'] > 0)\n",
    "_temp = _temp.drop('PrecipTotal',axis=1)\n",
    "_temp.groupby('has_rained').agg([np.mean,np.std,len])"
   ]
  },
  {
   "cell_type": "code",
   "execution_count": null,
   "metadata": {
    "collapsed": false
   },
   "outputs": [],
   "source": [
    "_temp = train.copy()[['Tavg','DewPoint','WetBulb','WnvPresent']]\n",
    "_temp['diff'] = _temp['Tavg'] - _temp['DewPoint']\n",
    "_temp['diff'].hist(bins=30)\n",
    "_temp['diff'] = pd.cut(_temp['diff'],10)\n",
    "_temp = _temp.groupby('diff').mean()['WnvPresent']"
   ]
  },
  {
   "cell_type": "code",
   "execution_count": null,
   "metadata": {
    "collapsed": false
   },
   "outputs": [],
   "source": [
    "# Saturation - Detection \n",
    "_temp.plot(kind='bar')"
   ]
  },
  {
   "cell_type": "code",
   "execution_count": null,
   "metadata": {
    "collapsed": false
   },
   "outputs": [],
   "source": [
    "_temp = train.copy()[['Species','WnvPresent']]\n",
    "_temp = _temp.groupby('Species').mean()['WnvPresent']\n",
    "_temp.plot(kind='bar')"
   ]
  },
  {
   "cell_type": "code",
   "execution_count": null,
   "metadata": {
    "collapsed": false
   },
   "outputs": [],
   "source": [
    "train.groupby('Species').size().plot(kind='bar')"
   ]
  },
  {
   "cell_type": "code",
   "execution_count": null,
   "metadata": {
    "collapsed": false
   },
   "outputs": [],
   "source": [
    "# Preprocessing\n",
    "species = pd.get_dummies(train['Species'])\n",
    "species.head()"
   ]
  },
  {
   "cell_type": "markdown",
   "metadata": {},
   "source": [
    "## Pipeline"
   ]
  },
  {
   "cell_type": "code",
   "execution_count": null,
   "metadata": {
    "collapsed": false
   },
   "outputs": [],
   "source": [
    "# Prepare data\n",
    "train_data = get_train_or_test_data()\n",
    "X, Y, scaler = preprocess_data(train_data)\n",
    "\n",
    "# Fit\n",
    "fitted_model = train_model(X, Y)\n",
    "\n",
    "# Predict\n",
    "test_data = get_train_or_test_data(train=False)\n",
    "X_test, _, _ = preprocess_data(test_data, train=False, scaler=scaler)\n",
    "\n",
    "preds = fitted_model.predict_proba(X_test, verbose=0)\n",
    "save_predictions(preds)"
   ]
  },
  {
   "cell_type": "code",
   "execution_count": null,
   "metadata": {
    "collapsed": false
   },
   "outputs": [],
   "source": [
    "_preds = pd.DataFrame(preds[:,1])\n",
    "_preds.hist(bins=30)"
   ]
  },
  {
   "cell_type": "code",
   "execution_count": null,
   "metadata": {
    "collapsed": false
   },
   "outputs": [],
   "source": [
    "fitted_model.summary()"
   ]
  },
  {
   "cell_type": "code",
   "execution_count": null,
   "metadata": {
    "collapsed": false
   },
   "outputs": [],
   "source": [
    "test_data.tail(20)"
   ]
  },
  {
   "cell_type": "code",
   "execution_count": null,
   "metadata": {
    "collapsed": true
   },
   "outputs": [],
   "source": []
  }
 ],
 "metadata": {
  "kernelspec": {
   "display_name": "Python 3",
   "language": "python",
   "name": "python3"
  },
  "language_info": {
   "codemirror_mode": {
    "name": "ipython",
    "version": 3
   },
   "file_extension": ".py",
   "mimetype": "text/x-python",
   "name": "python",
   "nbconvert_exporter": "python",
   "pygments_lexer": "ipython3",
   "version": "3.5.2"
  },
  "widgets": {
   "state": {},
   "version": "1.1.2"
  }
 },
 "nbformat": 4,
 "nbformat_minor": 2
}
